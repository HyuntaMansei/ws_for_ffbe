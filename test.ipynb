{
 "cells": [
  {
   "cell_type": "code",
   "execution_count": 2,
   "metadata": {},
   "outputs": [],
   "source": [
    "import pandas as pd\n",
    "import mysql.connector"
   ]
  },
  {
   "cell_type": "code",
   "execution_count": 3,
   "metadata": {},
   "outputs": [],
   "source": [
    "# Common function defenition\n",
    "def connect_db():\n",
    "    db_connection = mysql.connector.connect(\n",
    "    host='146.56.43.43',\n",
    "    user='ffbemaster',\n",
    "    password='aksaksgo1!',\n",
    "    database='ffbe')\n",
    "    return db_connection\n",
    "def fetch_data_from_db(sql):\n",
    "    conn = connect_db()\n",
    "    cursor = conn.cursor()\n",
    "    cursor.execute(sql)\n",
    "    res = cursor.fetchall()\n",
    "    cursor.close()\n",
    "    conn.close()\n",
    "    return res\n",
    "def fetch_data_from_db_with_col_names(sql):\n",
    "    conn = connect_db()\n",
    "    cursor = conn.cursor()\n",
    "    cursor.execute(sql)\n",
    "    res = cursor.fetchall()\n",
    "    col_names = cursor.column_names\n",
    "    cursor.close()\n",
    "    conn.close()\n",
    "    return res, col_names\n",
    "def write_to_server(sql, values):\n",
    "    conn = connect_db()\n",
    "    cursor = conn.cursor()\n",
    "    if type(values) != list:\n",
    "        cursor.execute(sql, values)\n",
    "    else:\n",
    "        for i in range(len(values)):\n",
    "            cursor.execute(sql, values[i])\n",
    "    res = cursor.fetchall()\n",
    "    cursor.close()\n",
    "    conn.commit()\n",
    "    conn.close()\n",
    "    return res"
   ]
  },
  {
   "cell_type": "code",
   "execution_count": 12,
   "metadata": {},
   "outputs": [
    {
     "data": {
      "text/plain": [
       "Index(['seq', 'char_name', 'char_jp_name', 'char_trsl_name', 'char_g8_link',\n",
       "       'char_img_src', 'char_eval', 'char_rarity', 'char_element',\n",
       "       'char_element_img_src', 'char_main_job', 'char_main_job_class',\n",
       "       'char_main_job_class_alias', 'char_sub_job1', 'char_sub_job2'],\n",
       "      dtype='object')"
      ]
     },
     "execution_count": 12,
     "metadata": {},
     "output_type": "execute_result"
    }
   ],
   "source": [
    "sql_query = \"\"\"SELECT * FROM char_list\"\"\"\n",
    "data, col_names = fetch_data_from_db_with_col_names(sql_query)\n",
    "chars = pd.DataFrame(data, columns=col_names)\n",
    "chars.columns"
   ]
  },
  {
   "cell_type": "code",
   "execution_count": 13,
   "metadata": {},
   "outputs": [],
   "source": [
    "def get_char_name(character):\n",
    "    if character['char_name']:\n",
    "        return character['char_name']\n",
    "    if character['char_trsl_name']:\n",
    "        return character['char_trsl_name']\n",
    "    if character['char_jp_name']:\n",
    "        return character['char_jp_name']\n",
    "    else:\n",
    "        return \"NoName\""
   ]
  },
  {
   "cell_type": "code",
   "execution_count": 6,
   "metadata": {},
   "outputs": [
    {
     "name": "stdout",
     "output_type": "stream",
     "text": [
      "박쥐\n"
     ]
    }
   ],
   "source": [
    "print(get_char_name(chars.iloc[2]))"
   ]
  },
  {
   "cell_type": "code",
   "execution_count": null,
   "metadata": {},
   "outputs": [],
   "source": [
    "selected_chars = pd.DataFrame()\n",
    "for i, c in chars.iterrows():\n",
    "    print(get_char_name(c))\n",
    "    selected_chars = pd.concat([selected_chars, c], ignore_index=True)\n",
    "    if i == 4:\n",
    "        chars.drop(i)\n",
    "    if i > 10:\n",
    "        break\n",
    "selected_chars\n",
    "print(chars)"
   ]
  },
  {
   "cell_type": "code",
   "execution_count": 21,
   "metadata": {},
   "outputs": [],
   "source": [
    "def show_chars_in_brief(chars:pd.DataFrame, selected_chars, width=100):\n",
    "    # chars = Dataframe\n",
    "    if type(selected_chars) != list:\n",
    "        selected_chars = [selected_chars]\n",
    "    col_num = 4\n",
    "    cnt = 0\n",
    "    element_list = ['화', '빙', '풍', '토', '뇌', '수', '명', '암']\n",
    "    chars_on_element = {}\n",
    "    for e in element_list:\n",
    "        #속성별로 나누어 담는다.\n",
    "        chars_on_element[e] = chars[(chars['char_element']==e) \n",
    "                                    & (chars['char_main_job_class_alias'].isin(selected_chars))]\n",
    "    for e in element_list:\n",
    "        if len(chars_on_element[e]):\n",
    "            print(f\"for {e}\", \"-\"*50)\n",
    "            print(chars_on_element[e]['char_trsl_name'])"
   ]
  },
  {
   "cell_type": "code",
   "execution_count": 24,
   "metadata": {},
   "outputs": [
    {
     "name": "stdout",
     "output_type": "stream",
     "text": [
      "for 화 --------------------------------------------------\n",
      "26       케프카\n",
      "72    로이 머스탱\n",
      "Name: char_trsl_name, dtype: object\n",
      "for 뇌 --------------------------------------------------\n",
      "40    헬레나(수영복)\n",
      "Name: char_trsl_name, dtype: object\n"
     ]
    }
   ],
   "source": [
    "show_chars_in_brief(chars, \"글로브\")"
   ]
  }
 ],
 "metadata": {
  "kernelspec": {
   "display_name": "py311",
   "language": "python",
   "name": "python3"
  },
  "language_info": {
   "codemirror_mode": {
    "name": "ipython",
    "version": 3
   },
   "file_extension": ".py",
   "mimetype": "text/x-python",
   "name": "python",
   "nbconvert_exporter": "python",
   "pygments_lexer": "ipython3",
   "version": "3.11.0"
  },
  "orig_nbformat": 4
 },
 "nbformat": 4,
 "nbformat_minor": 2
}
