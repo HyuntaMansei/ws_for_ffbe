{
 "cells": [
  {
   "cell_type": "code",
   "execution_count": 2,
   "metadata": {},
   "outputs": [],
   "source": [
    "import pandas as pd\n",
    "import mysql.connector"
   ]
  },
  {
   "cell_type": "code",
   "execution_count": 3,
   "metadata": {},
   "outputs": [],
   "source": [
    "# Common function defenition\n",
    "def connect_db():\n",
    "    db_connection = mysql.connector.connect(\n",
    "    host='146.56.43.43',\n",
    "    user='ffbemaster',\n",
    "    password='aksaksgo1!',\n",
    "    database='ffbe')\n",
    "    return db_connection\n",
    "def fetch_data_from_db(sql):\n",
    "    conn = connect_db()\n",
    "    cursor = conn.cursor()\n",
    "    cursor.execute(sql)\n",
    "    res = cursor.fetchall()\n",
    "    cursor.close()\n",
    "    conn.close()\n",
    "    return res\n",
    "def fetch_data_from_db_with_col_names(sql):\n",
    "    conn = connect_db()\n",
    "    cursor = conn.cursor()\n",
    "    cursor.execute(sql)\n",
    "    res = cursor.fetchall()\n",
    "    col_names = cursor.column_names\n",
    "    cursor.close()\n",
    "    conn.close()\n",
    "    return res, col_names\n",
    "def write_to_server(sql, values):\n",
    "    conn = connect_db()\n",
    "    cursor = conn.cursor()\n",
    "    if type(values) != list:\n",
    "        cursor.execute(sql, values)\n",
    "    else:\n",
    "        for i in range(len(values)):\n",
    "            cursor.execute(sql, values[i])\n",
    "    res = cursor.fetchall()\n",
    "    cursor.close()\n",
    "    conn.commit()\n",
    "    conn.close()\n",
    "    return res"
   ]
  },
  {
   "cell_type": "code",
   "execution_count": 12,
   "metadata": {},
   "outputs": [
    {
     "data": {
      "text/plain": [
       "Index(['seq', 'char_name', 'char_jp_name', 'char_trsl_name', 'char_g8_link',\n",
       "       'char_img_src', 'char_eval', 'char_rarity', 'char_element',\n",
       "       'char_element_img_src', 'char_main_job', 'char_main_job_class',\n",
       "       'char_main_job_class_alias', 'char_sub_job1', 'char_sub_job2'],\n",
       "      dtype='object')"
      ]
     },
     "execution_count": 12,
     "metadata": {},
     "output_type": "execute_result"
    }
   ],
   "source": [
    "sql_query = \"\"\"SELECT * FROM char_list\"\"\"\n",
    "data, col_names = fetch_data_from_db_with_col_names(sql_query)\n",
    "chars = pd.DataFrame(data, columns=col_names)\n",
    "chars.columns"
   ]
  },
  {
   "cell_type": "code",
   "execution_count": 13,
   "metadata": {},
   "outputs": [],
   "source": [
    "def get_char_name(character):\n",
    "    if character['char_name']:\n",
    "        return character['char_name']\n",
    "    if character['char_trsl_name']:\n",
    "        return character['char_trsl_name']\n",
    "    if character['char_jp_name']:\n",
    "        return character['char_jp_name']\n",
    "    else:\n",
    "        return \"NoName\""
   ]
  },
  {
   "cell_type": "code",
   "execution_count": 6,
   "metadata": {},
   "outputs": [
    {
     "name": "stdout",
     "output_type": "stream",
     "text": [
      "박쥐\n"
     ]
    }
   ],
   "source": [
    "print(get_char_name(chars.iloc[2]))"
   ]
  },
  {
   "cell_type": "code",
   "execution_count": null,
   "metadata": {},
   "outputs": [],
   "source": [
    "selected_chars = pd.DataFrame()\n",
    "for i, c in chars.iterrows():\n",
    "    print(get_char_name(c))\n",
    "    selected_chars = pd.concat([selected_chars, c], ignore_index=True)\n",
    "    if i == 4:\n",
    "        chars.drop(i)\n",
    "    if i > 10:\n",
    "        break\n",
    "selected_chars\n",
    "print(chars)"
   ]
  },
  {
   "cell_type": "code",
   "execution_count": 21,
   "metadata": {},
   "outputs": [],
   "source": [
    "def show_chars_in_brief(chars:pd.DataFrame, selected_chars, width=100):\n",
    "    # chars = Dataframe\n",
    "    if type(selected_chars) != list:\n",
    "        selected_chars = [selected_chars]\n",
    "    col_num = 4\n",
    "    cnt = 0\n",
    "    element_list = ['화', '빙', '풍', '토', '뇌', '수', '명', '암']\n",
    "    chars_on_element = {}\n",
    "    for e in element_list:\n",
    "        #속성별로 나누어 담는다.\n",
    "        chars_on_element[e] = chars[(chars['char_element']==e) \n",
    "                                    & (chars['char_main_job_class_alias'].isin(selected_chars))]\n",
    "    for e in element_list:\n",
    "        if len(chars_on_element[e]):\n",
    "            print(f\"for {e}\", \"-\"*50)\n",
    "            print(chars_on_element[e]['char_trsl_name'])"
   ]
  },
  {
   "cell_type": "code",
   "execution_count": 23,
   "metadata": {},
   "outputs": [
    {
     "name": "stdout",
     "output_type": "stream",
     "text": [
      "for 화 --------------------------------------------------\n",
      "26       케프카\n",
      "72    로이 머스탱\n",
      "Name: char_trsl_name, dtype: object\n",
      "for 뇌 --------------------------------------------------\n",
      "40    헬레나(수영복)\n",
      "Name: char_trsl_name, dtype: object\n"
     ]
    },
    {
     "data": {
      "text/html": [
       "<div>\n",
       "<style scoped>\n",
       "    .dataframe tbody tr th:only-of-type {\n",
       "        vertical-align: middle;\n",
       "    }\n",
       "\n",
       "    .dataframe tbody tr th {\n",
       "        vertical-align: top;\n",
       "    }\n",
       "\n",
       "    .dataframe thead th {\n",
       "        text-align: right;\n",
       "    }\n",
       "</style>\n",
       "<table border=\"1\" class=\"dataframe\">\n",
       "  <thead>\n",
       "    <tr style=\"text-align: right;\">\n",
       "      <th></th>\n",
       "      <th>seq</th>\n",
       "      <th>char_name</th>\n",
       "      <th>char_jp_name</th>\n",
       "      <th>char_trsl_name</th>\n",
       "      <th>char_g8_link</th>\n",
       "      <th>char_img_src</th>\n",
       "      <th>char_eval</th>\n",
       "      <th>char_rarity</th>\n",
       "      <th>char_element</th>\n",
       "      <th>char_element_img_src</th>\n",
       "      <th>char_main_job</th>\n",
       "      <th>char_main_job_class</th>\n",
       "      <th>char_main_job_class_alias</th>\n",
       "      <th>char_sub_job1</th>\n",
       "      <th>char_sub_job2</th>\n",
       "    </tr>\n",
       "  </thead>\n",
       "  <tbody>\n",
       "    <tr>\n",
       "      <th>26</th>\n",
       "      <td>27</td>\n",
       "      <td>None</td>\n",
       "      <td>ケフカ</td>\n",
       "      <td>케프카</td>\n",
       "      <td>https://game8.jp/geneisensou/513088</td>\n",
       "      <td>https://img.game8.jp/7781114/5c99ea2a02700eff2...</td>\n",
       "      <td>9.6</td>\n",
       "      <td>UR</td>\n",
       "      <td>화</td>\n",
       "      <td>https://img.game8.jp/6380410/21e39183d4aa7d6f5...</td>\n",
       "      <td>광란의 마도사</td>\n",
       "      <td>글로브</td>\n",
       "      <td>글로브</td>\n",
       "      <td>산술사</td>\n",
       "      <td>운영자</td>\n",
       "    </tr>\n",
       "    <tr>\n",
       "      <th>40</th>\n",
       "      <td>41</td>\n",
       "      <td>None</td>\n",
       "      <td>ヘレナ（水着）</td>\n",
       "      <td>헬레나(수영복)</td>\n",
       "      <td>https://game8.jp/geneisensou/468676</td>\n",
       "      <td>https://img.game8.jp/7034127/569470541ec690b06...</td>\n",
       "      <td>9.4</td>\n",
       "      <td>UR</td>\n",
       "      <td>뇌</td>\n",
       "      <td>https://img.game8.jp/6380417/f56ed171839357799...</td>\n",
       "      <td>해변에 피는 장미</td>\n",
       "      <td>글로브</td>\n",
       "      <td>글로브</td>\n",
       "      <td>백마도사</td>\n",
       "      <td>팔라딘</td>\n",
       "    </tr>\n",
       "    <tr>\n",
       "      <th>72</th>\n",
       "      <td>73</td>\n",
       "      <td>None</td>\n",
       "      <td>ロイ・マスタング</td>\n",
       "      <td>로이 머스탱</td>\n",
       "      <td>https://game8.jp/geneisensou/506142</td>\n",
       "      <td>https://img.game8.jp/7609042/a94725d8da37a3d55...</td>\n",
       "      <td>9.0</td>\n",
       "      <td>UR</td>\n",
       "      <td>화</td>\n",
       "      <td>https://img.game8.jp/6380410/21e39183d4aa7d6f5...</td>\n",
       "      <td>아메스트리스 국군 대령</td>\n",
       "      <td>글로브</td>\n",
       "      <td>글로브</td>\n",
       "      <td>흑마도사</td>\n",
       "      <td>가정 교사</td>\n",
       "    </tr>\n",
       "  </tbody>\n",
       "</table>\n",
       "</div>"
      ],
      "text/plain": [
       "    seq char_name char_jp_name char_trsl_name  \\\n",
       "26   27      None          ケフカ            케프카   \n",
       "40   41      None      ヘレナ（水着）       헬레나(수영복)   \n",
       "72   73      None     ロイ・マスタング         로이 머스탱   \n",
       "\n",
       "                           char_g8_link  \\\n",
       "26  https://game8.jp/geneisensou/513088   \n",
       "40  https://game8.jp/geneisensou/468676   \n",
       "72  https://game8.jp/geneisensou/506142   \n",
       "\n",
       "                                         char_img_src char_eval char_rarity  \\\n",
       "26  https://img.game8.jp/7781114/5c99ea2a02700eff2...       9.6          UR   \n",
       "40  https://img.game8.jp/7034127/569470541ec690b06...       9.4          UR   \n",
       "72  https://img.game8.jp/7609042/a94725d8da37a3d55...       9.0          UR   \n",
       "\n",
       "   char_element                               char_element_img_src  \\\n",
       "26            화  https://img.game8.jp/6380410/21e39183d4aa7d6f5...   \n",
       "40            뇌  https://img.game8.jp/6380417/f56ed171839357799...   \n",
       "72            화  https://img.game8.jp/6380410/21e39183d4aa7d6f5...   \n",
       "\n",
       "   char_main_job char_main_job_class char_main_job_class_alias char_sub_job1  \\\n",
       "26       광란의 마도사                 글로브                       글로브           산술사   \n",
       "40     해변에 피는 장미                 글로브                       글로브          백마도사   \n",
       "72  아메스트리스 국군 대령                 글로브                       글로브          흑마도사   \n",
       "\n",
       "   char_sub_job2  \n",
       "26           운영자  \n",
       "40           팔라딘  \n",
       "72         가정 교사  "
      ]
     },
     "execution_count": 23,
     "metadata": {},
     "output_type": "execute_result"
    }
   ],
   "source": [
    "show_chars_in_brief(chars, \"글로브\")"
   ]
  }
 ],
 "metadata": {
  "kernelspec": {
   "display_name": "py311",
   "language": "python",
   "name": "python3"
  },
  "language_info": {
   "codemirror_mode": {
    "name": "ipython",
    "version": 3
   },
   "file_extension": ".py",
   "mimetype": "text/x-python",
   "name": "python",
   "nbconvert_exporter": "python",
   "pygments_lexer": "ipython3",
   "version": "3.11.0"
  },
  "orig_nbformat": 4
 },
 "nbformat": 4,
 "nbformat_minor": 2
}
